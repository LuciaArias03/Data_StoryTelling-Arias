{
  "nbformat": 4,
  "nbformat_minor": 0,
  "metadata": {
    "colab": {
      "provenance": [],
      "mount_file_id": "https://github.com/LuciaArias03/Data_StoryTelling-Arias/blob/main/Data_StoryTelling%2BArias.ipynb",
      "authorship_tag": "ABX9TyMCKzexuHRjMb7yxzKBAdPB",
      "include_colab_link": true
    },
    "kernelspec": {
      "name": "python3",
      "display_name": "Python 3"
    },
    "language_info": {
      "name": "python"
    }
  },
  "cells": [
    {
      "cell_type": "markdown",
      "metadata": {
        "id": "view-in-github",
        "colab_type": "text"
      },
      "source": [
        "<a href=\"https://colab.research.google.com/github/LuciaArias03/Data_StoryTelling-Arias/blob/main/Data_StoryTelling%2BArias.ipynb\" target=\"_parent\"><img src=\"https://colab.research.google.com/assets/colab-badge.svg\" alt=\"Open In Colab\"/></a>"
      ]
    },
    {
      "cell_type": "markdown",
      "source": [
        "📊 **Pondremos a prueba las habilidades de regresión diseñando un algoritmo para predecir con precisión los precios de las viviendas en India.**\n",
        "\n",
        "Quizas haya compradores que no les importa solamente el tamaño de la casa; existen otros factores clave para decidir el precio de una casa o propiedad. Puede ser extremadamente difícil determinar el conjunto correcto de atributos que contribuyen a comprender el comportamiento del comprador.\n",
        "\n",
        "En la India, La \"aprobación RERA\" se refiere a la aprobación de un proyecto inmobiliario según la Ley de Regulación Inmobiliaria (RERA), lo que significa que el proyecto cumple con los criterios legales, financieros y operativos establecidos por el gobierno para garantizar la transparencia, la entrega a tiempo y el cumplimiento de las normativas, protegiendo los intereses de los compradores de viviendas."
      ],
      "metadata": {
        "id": "phWNFcCiYspg"
      }
    },
    {
      "cell_type": "markdown",
      "source": [
        "🧠 **Hipótesis**\n",
        "\n",
        "El tamaño de la propiedad (en pies cuadrados) es el factor más influyente en el precio de la casa.\n",
        "\n",
        "La ubicación geográfica de una casa afecta directamente su precio.\n",
        "\n",
        "Las características adicionales como la condición de \"lista para mudarse\" o la aprobación por RERA aumentan el valor de la propiedad."
      ],
      "metadata": {
        "id": "yW6-OJivRxzR"
      }
    },
    {
      "cell_type": "code",
      "source": [
        "import pandas as pd\n",
        "import seaborn as sns\n",
        "import matplotlib.pyplot as plt\n",
        "import numpy as np\n",
        "from scipy.stats import pearsonr\n",
        "\n",
        "file_path = '/content/drive/MyDrive/Data_StoryTelling+Arias/train.csv'\n",
        "\n",
        "try:\n",
        "    df_train = pd.read_csv(file_path)\n",
        "    # Muestra las primeras 5 filas para verificar.\n",
        "    print(\"\\nPrimeras 5 filas del DataFrame de entrenamiento:\")\n",
        "    print(df_train.head())\n",
        "\n",
        "    # Muestra información general sobre el DataFrame.\n",
        "    print(\"\\nInformación del DataFrame:\")\n",
        "    df_train.info()\n",
        "\n",
        "except FileNotFoundError:\n",
        "    print(f\"Error: El archivo '{file_path}' no se encuentra en la sesión de Colab. Asegúrate de haberlo subido correctamente y de que el nombre coincide.\")"
      ],
      "metadata": {
        "colab": {
          "base_uri": "https://localhost:8080/"
        },
        "id": "n-u06KflNYfI",
        "outputId": "ebb12178-447f-4a81-c3da-9b73fb84260d"
      },
      "execution_count": 3,
      "outputs": [
        {
          "output_type": "stream",
          "name": "stdout",
          "text": [
            "\n",
            "Primeras 5 filas del DataFrame de entrenamiento:\n",
            "  POSTED_BY  UNDER_CONSTRUCTION  RERA  BHK_NO. BHK_OR_RK    SQUARE_FT  \\\n",
            "0     Owner                   0     0        2       BHK  1300.236407   \n",
            "1    Dealer                   0     0        2       BHK  1275.000000   \n",
            "2     Owner                   0     0        2       BHK   933.159722   \n",
            "3     Owner                   0     1        2       BHK   929.921143   \n",
            "4    Dealer                   1     0        2       BHK   999.009247   \n",
            "\n",
            "   READY_TO_MOVE  RESALE                      ADDRESS  LONGITUDE   LATITUDE  \\\n",
            "0              1       1        Ksfc Layout,Bangalore  12.969910  77.597960   \n",
            "1              1       1    Vishweshwara Nagar,Mysore  12.274538  76.644605   \n",
            "2              1       1             Jigani,Bangalore  12.778033  77.632191   \n",
            "3              1       1  Sector-1 Vaishali,Ghaziabad  28.642300  77.344500   \n",
            "4              0       1             New Town,Kolkata  22.592200  88.484911   \n",
            "\n",
            "   TARGET(PRICE_IN_LACS)  \n",
            "0                   55.0  \n",
            "1                   51.0  \n",
            "2                   43.0  \n",
            "3                   62.5  \n",
            "4                   60.5  \n",
            "\n",
            "Información del DataFrame:\n",
            "<class 'pandas.core.frame.DataFrame'>\n",
            "RangeIndex: 29451 entries, 0 to 29450\n",
            "Data columns (total 12 columns):\n",
            " #   Column                 Non-Null Count  Dtype  \n",
            "---  ------                 --------------  -----  \n",
            " 0   POSTED_BY              29451 non-null  object \n",
            " 1   UNDER_CONSTRUCTION     29451 non-null  int64  \n",
            " 2   RERA                   29451 non-null  int64  \n",
            " 3   BHK_NO.                29451 non-null  int64  \n",
            " 4   BHK_OR_RK              29451 non-null  object \n",
            " 5   SQUARE_FT              29451 non-null  float64\n",
            " 6   READY_TO_MOVE          29451 non-null  int64  \n",
            " 7   RESALE                 29451 non-null  int64  \n",
            " 8   ADDRESS                29451 non-null  object \n",
            " 9   LONGITUDE              29451 non-null  float64\n",
            " 10  LATITUDE               29451 non-null  float64\n",
            " 11  TARGET(PRICE_IN_LACS)  29451 non-null  float64\n",
            "dtypes: float64(4), int64(5), object(3)\n",
            "memory usage: 2.7+ MB\n"
          ]
        }
      ]
    },
    {
      "cell_type": "code",
      "source": [
        "# df_train es el DataFrame que creaste al leer 'train.csv'\n",
        "# Muestra información sobre el DataFrame\n",
        "print(df_train.info())\n",
        "\n",
        "# Muestra las primeras 5 filas para una inspección visual\n",
        "print(df_train.head())\n",
        "\n",
        "# Cuenta el número de valores nulos por columna\n",
        "print(\"\\nValores nulos por columna:\")\n",
        "print(df_train.isnull().sum())\n",
        "\n",
        "# Opcional: Para ver el porcentaje de valores faltantes\n",
        "print(\"\\nPorcentaje de valores nulos:\")\n",
        "total_rows = len(df_train)\n",
        "null_percentage = (df_train.isnull().sum() / total_rows) * 100\n",
        "print(null_percentage.sort_values(ascending=False))\n",
        "\n"
      ],
      "metadata": {
        "colab": {
          "base_uri": "https://localhost:8080/",
          "height": 211
        },
        "id": "KwsVYnpPQIRa",
        "outputId": "ed2d4805-71f6-4e62-9deb-101b0123126b"
      },
      "execution_count": 2,
      "outputs": [
        {
          "output_type": "error",
          "ename": "NameError",
          "evalue": "name 'df_train' is not defined",
          "traceback": [
            "\u001b[0;31m---------------------------------------------------------------------------\u001b[0m",
            "\u001b[0;31mNameError\u001b[0m                                 Traceback (most recent call last)",
            "\u001b[0;32m/tmp/ipython-input-1241765882.py\u001b[0m in \u001b[0;36m<cell line: 0>\u001b[0;34m()\u001b[0m\n\u001b[1;32m      1\u001b[0m \u001b[0;31m# df_train es el DataFrame que creaste al leer 'train.csv'\u001b[0m\u001b[0;34m\u001b[0m\u001b[0;34m\u001b[0m\u001b[0m\n\u001b[1;32m      2\u001b[0m \u001b[0;31m# Muestra información sobre el DataFrame\u001b[0m\u001b[0;34m\u001b[0m\u001b[0;34m\u001b[0m\u001b[0m\n\u001b[0;32m----> 3\u001b[0;31m \u001b[0mprint\u001b[0m\u001b[0;34m(\u001b[0m\u001b[0mdf_train\u001b[0m\u001b[0;34m.\u001b[0m\u001b[0minfo\u001b[0m\u001b[0;34m(\u001b[0m\u001b[0;34m)\u001b[0m\u001b[0;34m)\u001b[0m\u001b[0;34m\u001b[0m\u001b[0;34m\u001b[0m\u001b[0m\n\u001b[0m\u001b[1;32m      4\u001b[0m \u001b[0;34m\u001b[0m\u001b[0m\n\u001b[1;32m      5\u001b[0m \u001b[0;31m# Muestra las primeras 5 filas para una inspección visual\u001b[0m\u001b[0;34m\u001b[0m\u001b[0;34m\u001b[0m\u001b[0m\n",
            "\u001b[0;31mNameError\u001b[0m: name 'df_train' is not defined"
          ]
        }
      ]
    },
    {
      "cell_type": "code",
      "source": [
        "from google.colab import drive\n",
        "drive.mount('/content/drive')"
      ],
      "metadata": {
        "id": "Gt00Zfidg65-"
      },
      "execution_count": null,
      "outputs": []
    },
    {
      "cell_type": "markdown",
      "source": [
        "El conjunto de datos contiene 29,451 entradas y 12 columnas. El aspecto más importante es que no hay valores nulos en ninguna columna, lo que nos permite saltar la etapa de imputación de datos. Esto simplifica enormemente el proceso."
      ],
      "metadata": {
        "id": "ehQ6ZJR4aFOt"
      }
    },
    {
      "cell_type": "code",
      "source": [
        "duplicate_rows = df_train.duplicated()\n",
        "\n",
        "# Cuenta el número total de duplicados\n",
        "num_duplicates = duplicate_rows.sum()\n",
        "\n",
        "print(f\"El número total de filas duplicadas en el DataFrame es: {num_duplicates}\")\n",
        "\n",
        "# Para ver las filas duplicadas, puedes filtrar el DataFrame\n",
        "if num_duplicates > 0:\n",
        "    print(\"\\nEjemplo de filas duplicadas:\")\n",
        "    print(df_train[duplicate_rows].head())\n",
        "else:\n",
        "    print(\"\\nNo se encontraron filas duplicadas.\")"
      ],
      "metadata": {
        "id": "AgU11JK2rvJt"
      },
      "execution_count": null,
      "outputs": []
    },
    {
      "cell_type": "markdown",
      "source": [
        "Estos 401 duplicados que se encontraron pueden sesgar los resultados y hacer que el modelo parezca más preciso de lo que realmente es. Una buena práctica en el data wrangling es eliminar estos duplicados antes de cualquier análisis o modelado serio."
      ],
      "metadata": {
        "id": "NHGOX8NssMAl"
      }
    },
    {
      "cell_type": "code",
      "source": [
        "# Elimina las filas duplicadas del DataFrame\n",
        "df_train.drop_duplicates(inplace=True)\n",
        "\n",
        "print(f\"Número de filas después de eliminar duplicados: {len(df_train)}\")"
      ],
      "metadata": {
        "id": "w5pH4NBvsYnq"
      },
      "execution_count": null,
      "outputs": []
    },
    {
      "cell_type": "code",
      "source": [
        "df_train.drop_duplicates(inplace=True)\n",
        "\n",
        "# Contar el número de propiedades por anunciante\n",
        "posted_by_counts = df_train['POSTED_BY'].value_counts()\n",
        "\n",
        "print(\"Conteo de propiedades por anunciante:\")\n",
        "print(posted_by_counts)\n",
        "\n",
        "# Crear un gráfico de barras\n",
        "plt.figure(figsize=(8, 6))\n",
        "ax = sns.countplot(x='POSTED_BY', data=df_train, hue='POSTED_BY', palette='viridis', legend=False)\n",
        "plt.title('Conteo de Propiedades por Anunciante')\n",
        "plt.xlabel('Anunciado por')\n",
        "plt.ylabel('Cantidad de Propiedades')\n",
        "\n",
        "# Añadir las etiquetas de texto en la parte superior de cada barra\n",
        "for container in ax.containers:\n",
        "    ax.bar_label(container, fontsize=10)\n",
        "\n",
        "plt.show()"
      ],
      "metadata": {
        "id": "AQrBVqsxe8y2"
      },
      "execution_count": null,
      "outputs": []
    },
    {
      "cell_type": "markdown",
      "source": [
        "📊 Los resultados revelan que quienes buscan vender sus propiedades prefieren contactar con un agente inmobiliario para publicar su vivienda.\n",
        "En segundo lugar el propietario la publica por sus propios medios.\n",
        "Por último, en menor medida, la empresa constructora publica el inmueble a vender."
      ],
      "metadata": {
        "id": "7XbrntgKffH-"
      }
    },
    {
      "cell_type": "code",
      "source": [
        "\n",
        "df_train.drop_duplicates(inplace=True)\n",
        "\n",
        "# Contar el número de propiedades por cantidad de habitaciones\n",
        "bhk_counts = df_train['BHK_NO.'].value_counts().sort_index()\n",
        "\n",
        "print(\"Conteo de propiedades por número de habitaciones:\")\n",
        "print(bhk_counts)\n",
        "\n",
        "# Contar el número de propiedades por cantidad de habitaciones y ordenar\n",
        "bhk_counts = df_train['BHK_NO.'].value_counts().nlargest(5).sort_index()\n",
        "\n",
        "# Crear un DataFrame a partir de los 5 primeros conteos para el gráfico\n",
        "bhk_df_top5 = bhk_counts.reset_index()\n",
        "bhk_df_top5.columns = ['BHK_NO.', 'count']\n",
        "\n",
        "# Crear un gráfico de barras\n",
        "plt.figure(figsize=(10, 6))\n",
        "ax = sns.barplot(x='BHK_NO.', y='count', data=bhk_df_top5, palette='viridis', hue='BHK_NO.', legend=False)\n",
        "plt.title('Top 5 Propiedades por Número de Habitaciones')\n",
        "plt.xlabel('Número de Habitaciones')\n",
        "plt.ylabel('Cantidad de Propiedades')\n",
        "\n",
        "# Añadir las etiquetas de texto en la parte superior de cada barra\n",
        "for container in ax.containers:\n",
        "    ax.bar_label(container, fontsize=10)\n",
        "\n",
        "plt.show()"
      ],
      "metadata": {
        "id": "apEQFXFPhJY-"
      },
      "execution_count": null,
      "outputs": []
    },
    {
      "cell_type": "markdown",
      "source": [
        "📊 En este TOP 5, vemos que la gran mayoria de las viviendas son de 2 y 3 ambientes, pero ya podriamos estar viendo valores atípicos que tendremos que tratar."
      ],
      "metadata": {
        "id": "5lkAKDQ1iYPW"
      }
    },
    {
      "cell_type": "code",
      "source": [
        "# 1. Calcular el coeficiente de correlación\n",
        "# Usamos el método .corr() de pandas\n",
        "correlation = df_train['SQUARE_FT'].corr(df_train['TARGET(PRICE_IN_LACS)'])\n",
        "print(f\"El coeficiente de correlación entre el tamaño y el precio es: {correlation:.2f}\")\n",
        "\n",
        "# 2. Crear un gráfico de dispersión para visualizar la relación\n",
        "plt.figure(figsize=(10, 6))\n",
        "sns.scatterplot(x='SQUARE_FT', y='TARGET(PRICE_IN_LACS)', data=df_train)\n",
        "plt.title('Relación entre Tamaño de la Propiedad y Precio')\n",
        "plt.xlabel('Área de la Propiedad (pies cuadrados)')\n",
        "plt.ylabel('Precio de la Casa (en Lacs)')\n",
        "plt.show()"
      ],
      "metadata": {
        "id": "S2zfM7XKge_J"
      },
      "execution_count": null,
      "outputs": []
    },
    {
      "cell_type": "markdown",
      "source": [
        "Cuantos mas metros cuadrados tiene la propiedad, el precio tiende a aumentar. Aun que esto es un factor importante, no es el único ni el más influyente. Otros factores como la ubicación, la condición, o el tipo de propiedad también juegan un papel crucial en la determinación del precio."
      ],
      "metadata": {
        "id": "BsSn7EvZiwY5"
      }
    },
    {
      "cell_type": "code",
      "source": [
        "# Crear el gráfico de dispersión\n",
        "# Usamos 'SQUARE_FT' como tamaño del punto y el precio como color para un análisis más profundo.\n",
        "plt.figure(figsize=(12, 8))\n",
        "sns.scatterplot(\n",
        "    x='LONGITUDE',\n",
        "    y='LATITUDE',\n",
        "    data=df_train,\n",
        "    hue='TARGET(PRICE_IN_LACS)',  # Color del punto según el precio\n",
        "    size='SQUARE_FT',            # Tamaño del punto según el área\n",
        "    sizes=(20, 200),             # Rango de tamaño de los puntos\n",
        "    palette='viridis',           # Paleta de colores\n",
        "    alpha=0.6                    # Transparencia\n",
        ")\n",
        "\n",
        "plt.title('Distribución de Precios de Propiedades por Ubicación', fontsize=16)\n",
        "plt.xlabel('Longitud', fontsize=12)\n",
        "plt.ylabel('Latitud', fontsize=12)\n",
        "plt.legend(title='Precio (en Lacs)')\n",
        "plt.show()"
      ],
      "metadata": {
        "id": "kUBMEGodi_PA"
      },
      "execution_count": null,
      "outputs": []
    },
    {
      "cell_type": "code",
      "source": [
        "# Nombre de la columna de precios\n",
        "price_column = 'TARGET(PRICE_IN_LACS)'\n",
        "\n",
        "# 1. Mostrar estadísticas descriptivas del precio\n",
        "print(\"Estadísticas del precio de las propiedades:\")\n",
        "print(df_train[price_column].describe())\n",
        "\n",
        "# 2. Crear un gráfico de caja para visualizar la distribución\n",
        "plt.figure(figsize=(10, 6))\n",
        "sns.boxplot(x=df_train[price_column])\n",
        "plt.title('Gráfico de Caja de los Precios de las Propiedades')\n",
        "plt.xlabel('Precio (en Lacs)')\n",
        "plt.show()"
      ],
      "metadata": {
        "id": "-IqCWtG1pZQv"
      },
      "execution_count": null,
      "outputs": []
    },
    {
      "cell_type": "markdown",
      "source": [
        "Los resultados de las estadísticas del precio (TARGET(PRICE_IN_LACS)) muestran la existencia de valores atípicos extremos en el conjunto de datos.\n",
        "\n",
        "Esto significa que el 75% de todas las propiedades tienen un precio igual o menor a 100 lakhs, mientras que la propiedad más cara cuesta 30.000 lakhs, un valor 300 veces mayor que el 75% de los datos. Esta disparidad tan grande distorsiona la escala de color.\n",
        "\n",
        "Tendre que transformar la variable de precio usando una función logarítmica. Esta transformación reduce la magnitud de los valores más altos sin perder la información sobre su relación con las otras variables."
      ],
      "metadata": {
        "id": "aDlZN-Bnq6h6"
      }
    },
    {
      "cell_type": "code",
      "source": [
        "# Aplicar la transformación logarítmica a la columna de precios\n",
        "# Usamos np.log1p para evitar errores con valores de 0\n",
        "df_train['TARGET(PRICE_IN_LACS)_log'] = np.log1p(df_train['TARGET(PRICE_IN_LACS)'])\n",
        "\n",
        "# Ahora, analiza la distribución de la nueva variable transformada\n",
        "print(\"Estadísticas del precio transformado (log):\")\n",
        "print(df_train['TARGET(PRICE_IN_LACS)_log'].describe())\n",
        "\n",
        "# Visualiza la nueva distribución con un box plot\n",
        "plt.figure(figsize=(10, 6))\n",
        "sns.boxplot(x=df_train['TARGET(PRICE_IN_LACS)_log'])\n",
        "plt.title('Gráfico de Caja de los Precios (Escala Logarítmica)')\n",
        "plt.xlabel('Precio (Escala Logarítmica)')\n",
        "plt.show()"
      ],
      "metadata": {
        "id": "2J1yGK7fpuf3"
      },
      "execution_count": null,
      "outputs": []
    },
    {
      "cell_type": "code",
      "source": [
        "plt.figure(figsize=(12, 8))\n",
        "sns.scatterplot(\n",
        "    x='LONGITUDE',\n",
        "    y='LATITUDE',\n",
        "    data=df_train,\n",
        "    hue='TARGET(PRICE_IN_LACS)_log',  # Color del punto según el precio\n",
        "    size='SQUARE_FT',            # Tamaño del punto según el área\n",
        "    sizes=(20, 200),             # Rango de tamaño de los puntos\n",
        "    palette='viridis',           # Paleta de colores\n",
        "    alpha=0.6                    # Transparencia\n",
        ")\n",
        "\n",
        "plt.title('Distribución de Precios de Propiedades por Ubicación', fontsize=16)\n",
        "plt.xlabel('Longitud', fontsize=12)\n",
        "plt.ylabel('Latitud', fontsize=12)\n",
        "plt.legend(title='Precio (en Lacs)')\n",
        "plt.show()"
      ],
      "metadata": {
        "id": "wWdX4tOtqRoz"
      },
      "execution_count": null,
      "outputs": []
    },
    {
      "cell_type": "markdown",
      "source": [
        "🚀 La transformación logarítmica ha \"normalizado\" los datos, lo que significa que la mayoría de los valores se concentran alrededor de la media (los tonos azules y celestes), mientras que los valores extremos (los precios más altos) son mucho menos comunes y, por lo tanto, se muestran con los tonos amarillos."
      ],
      "metadata": {
        "id": "c8HnRmTts5XI"
      }
    },
    {
      "cell_type": "code",
      "source": [
        "\n",
        "df_train.drop_duplicates(inplace=True)\n",
        "df_train['TARGET(PRICE_IN_LACS)_log'] = np.log1p(df_train['TARGET(PRICE_IN_LACS)'])\n",
        "\n",
        "# Crear rangos de precios y contar cuántas propiedades caen en cada uno\n",
        "bins = np.linspace(df_train['TARGET(PRICE_IN_LACS)_log'].min(), df_train['TARGET(PRICE_IN_LACS)_log'].max(), 10)\n",
        "price_distribution = pd.cut(df_train['TARGET(PRICE_IN_LACS)_log'], bins=bins).value_counts().sort_index()\n",
        "\n",
        "# Convertir la serie a un DataFrame para el gráfico\n",
        "price_distribution_df = price_distribution.reset_index()\n",
        "price_distribution_df.columns = ['Price_Range', 'Count']\n",
        "\n",
        "# --- Aquí está la clave ---\n",
        "# Revertir la transformación logarítmica para crear etiquetas legibles en lakhs\n",
        "price_ranges_original = [\n",
        "    f'{np.expm1(interval.left):.0f} - {np.expm1(interval.right):.0f} Lacs'\n",
        "    for interval in price_distribution_df['Price_Range']\n",
        "]\n",
        "# Asignar las nuevas etiquetas al DataFrame\n",
        "price_distribution_df['Price_Range'] = price_ranges_original\n",
        "\n",
        "# Crear el gráfico de barras\n",
        "plt.figure(figsize=(12, 8))\n",
        "ax = sns.barplot(\n",
        "    x='Price_Range',\n",
        "    y='Count',\n",
        "    data=price_distribution_df,\n",
        "    palette='viridis',\n",
        "    hue='Price_Range',\n",
        "    legend=False\n",
        ")\n",
        "\n",
        "# Añadir las etiquetas de texto en la parte superior de cada barra\n",
        "for container in ax.containers:\n",
        "    ax.bar_label(container, fontsize=10)\n",
        "\n",
        "plt.title('Distribución de Propiedades por Rango de Precios', fontsize=16)\n",
        "plt.xlabel('Rango de Precios', fontsize=12)\n",
        "plt.ylabel('Cantidad de Propiedades', fontsize=12)\n",
        "plt.xticks(rotation=45, ha='right')\n",
        "plt.tight_layout()\n",
        "plt.show()"
      ],
      "metadata": {
        "id": "Qd86PI8Z_4Sq"
      },
      "execution_count": null,
      "outputs": []
    },
    {
      "cell_type": "markdown",
      "source": [
        "Mostrar el rango de precios en lakhs hace que el gráfico sea mucho más fácil de entender"
      ],
      "metadata": {
        "id": "AIcoWYsfAZtl"
      }
    },
    {
      "cell_type": "code",
      "source": [
        "df_train.drop_duplicates(inplace=True)\n",
        "df_train['TARGET(PRICE_IN_LACS)_log'] = np.log1p(df_train['TARGET(PRICE_IN_LACS)'])\n",
        "\n",
        "# Crear el histograma con la curva de densidad\n",
        "plt.figure(figsize=(12, 8))\n",
        "sns.histplot(\n",
        "    x='TARGET(PRICE_IN_LACS)_log',\n",
        "    data=df_train,\n",
        "    kde=True,  # <--- Esta es la clave para la curva de distribucion\n",
        "    bins=20,   # Puedes ajustar el numero de barras para mayor detalle\n",
        "    color='skyblue'\n",
        ")\n",
        "\n",
        "plt.title('Distribución de Precios con Curva de Densidad', fontsize=16)\n",
        "plt.xlabel('Precio (escala logarítmica)', fontsize=12)\n",
        "plt.ylabel('Cantidad de Propiedades', fontsize=12)\n",
        "plt.grid(True, linestyle='--', alpha=0.6)\n",
        "plt.show()"
      ],
      "metadata": {
        "id": "Z9cUdjf-2SYA"
      },
      "execution_count": null,
      "outputs": []
    },
    {
      "cell_type": "markdown",
      "source": [
        "Inicialmente, la distribución de los precios de las propiedades era muy desigual, con la mayoría concentrada en el rango bajo y unos pocos precios extremadamente altos (valores atípicos) que distorsionaban el análisis. Para resolver esto, aplicamos una transformación logarítmica. Este proceso comprimió los valores más altos y estiró los más bajos, lo que resultó en una distribución más equilibrada y similar a una campana."
      ],
      "metadata": {
        "id": "iRtF2RQPDNFQ"
      }
    },
    {
      "cell_type": "code",
      "source": [
        "df_train.drop_duplicates(inplace=True)\n",
        "df_train['TARGET(PRICE_IN_LACS)_log'] = np.log1p(df_train['TARGET(PRICE_IN_LACS)'])\n",
        "\n",
        "# Crear el histograma con la curva de densidad\n",
        "plt.figure(figsize=(12, 8))\n",
        "ax = sns.histplot(\n",
        "    x='TARGET(PRICE_IN_LACS)_log',\n",
        "    data=df_train,\n",
        "    kde=True,\n",
        "    bins=20, # Usar 20 bins para una visualizacion mas detallada\n",
        "    color='skyblue'\n",
        ")\n",
        "\n",
        "# --- Corrección aquí ---\n",
        "# Obtener las posiciones de los ticks que el gráfico creó automáticamente\n",
        "tick_locs = ax.get_xticks()\n",
        "\n",
        "# Revertir la transformación logarítmica para obtener los valores en lakhs\n",
        "lakhs_values = np.expm1(tick_locs)\n",
        "\n",
        "# Crear las etiquetas en un formato legible (ej. \"10 Lacs\")\n",
        "labels = [f'{val:.0f} Lacs' for val in lakhs_values]\n",
        "\n",
        "# Establecer las nuevas etiquetas en el eje X\n",
        "ax.set_xticks(tick_locs)\n",
        "ax.set_xticklabels(labels, rotation=45, ha='right')\n",
        "\n",
        "# Título y etiquetas\n",
        "plt.title('Distribución de Precios con Curva de Densidad', fontsize=16)\n",
        "plt.xlabel('Rango de Precio', fontsize=12)\n",
        "plt.ylabel('Cantidad de Propiedades', fontsize=12)\n",
        "plt.tight_layout()\n",
        "plt.show()"
      ],
      "metadata": {
        "id": "yqoqToReA0FU"
      },
      "execution_count": null,
      "outputs": []
    },
    {
      "cell_type": "markdown",
      "source": [
        "Es importante recordar que 1 lakh equivale a 100,000 rupias indias (INR). Esto nos permite presentar una visualización que es precisa desde el punto de vista técnico y clara para una audiencia no especializada."
      ],
      "metadata": {
        "id": "xwlT-D4RDl7Y"
      }
    },
    {
      "cell_type": "code",
      "source": [
        "df_train.drop_duplicates(inplace=True)\n",
        "df_train['TARGET(PRICE_IN_LACS)_log'] = np.log1p(df_train['TARGET(PRICE_IN_LACS)'])\n",
        "\n",
        "# Calcula la correlación de Pearson y el valor p\n",
        "corr, p_value = pearsonr(df_train['BHK_NO.'], df_train['TARGET(PRICE_IN_LACS)_log'])\n",
        "\n",
        "print(f\"Coeficiente de correlación de Pearson (r): {corr:.4f}\")\n",
        "print(f\"Valor p (P-value): {p_value:.4f}\")"
      ],
      "metadata": {
        "id": "XUsgWXfA_x6W"
      },
      "execution_count": null,
      "outputs": []
    },
    {
      "cell_type": "markdown",
      "source": [
        "Otro analisis que se puede abordar relaciona el número de habitaciones de la propiedad ('BHK_NO.') con el pricio de la misma.\n",
        "\n",
        "r=0.4807 significa que a medida que el número de habitaciones aumenta, el precio de la propiedad también tiende a subir. Es un hallazgo esperado, ya que las propiedades más grandes y con más habitaciones suelen tener un mayor valor en el mercado.\n",
        "\n",
        "Valor p (P-value): 0.0000 significa que este resultado es estadísticamente muy significativo. Puedes estar muy seguro de que la relación entre el número de habitaciones y el precio es real y no una simple coincidencia.\n"
      ],
      "metadata": {
        "id": "lrhcH1YXAXb6"
      }
    },
    {
      "cell_type": "code",
      "source": [
        "# Análisis de READY_TO_MOVE vs UNDER_CONSTRUCTION\n",
        "# --- Visualización del Gráfico de Caja ---\n",
        "plt.figure(figsize=(10, 6))\n",
        "sns.boxplot(x='READY_TO_MOVE', y='TARGET(PRICE_IN_LACS)_log', data=df_train)\n",
        "plt.title('Distribución de Precios por Condición de la Propiedad')\n",
        "plt.xlabel('Condición (0=En Construcción, 1=Lista para Mudarse)')\n",
        "plt.ylabel('Precio (escala logarítmica)')\n",
        "plt.show()\n",
        "\n",
        "# --- Estadísticas en Texto ---\n",
        "print(\"--- Análisis de READY_TO_MOVE ---\")\n",
        "df_ready = df_train[df_train['READY_TO_MOVE'] == 1]['TARGET(PRICE_IN_LACS)_log']\n",
        "df_under_con = df_train[df_train['READY_TO_MOVE'] == 0]['TARGET(PRICE_IN_LACS)_log']\n",
        "\n",
        "print(\"Estadísticas para propiedades listas para mudarse (1):\")\n",
        "print(df_ready.describe())\n",
        "print(\"\\nEstadísticas para propiedades en construcción (0):\")\n",
        "print(df_under_con.describe())\n",
        "\n",
        "# Análisis de RERA\n",
        "# --- Visualización del Gráfico de Caja ---\n",
        "plt.figure(figsize=(10, 6))\n",
        "sns.boxplot(x='RERA', y='TARGET(PRICE_IN_LACS)_log', data=df_train)\n",
        "plt.title('Distribución de Precios por Aprobación RERA')\n",
        "plt.xlabel('Aprobación RERA (0=No Aprobado, 1=Aprobado)')\n",
        "plt.ylabel('Precio (escala logarítmica)')\n",
        "plt.show()\n",
        "\n",
        "# --- Estadísticas en Texto ---\n",
        "print(\"\\n--- Análisis de RERA ---\")\n",
        "df_rera_yes = df_train[df_train['RERA'] == 1]['TARGET(PRICE_IN_LACS)_log']\n",
        "df_rera_no = df_train[df_train['RERA'] == 0]['TARGET(PRICE_IN_LACS)_log']\n",
        "\n",
        "print(\"Estadísticas para propiedades con RERA (1):\")\n",
        "print(df_rera_yes.describe())\n",
        "print(\"\\nEstadísticas para propiedades sin RERA (0):\")\n",
        "print(df_rera_no.describe())"
      ],
      "metadata": {
        "id": "Fmd57g55xGwa"
      },
      "execution_count": null,
      "outputs": []
    },
    {
      "cell_type": "markdown",
      "source": [
        "📝 Las características \"lista para mudarse\" y la aprobación RERA sí tienen un impacto en el precio de las propiedades.\n",
        "\n",
        "Curiosamente, las propiedades en construcción tienen un precio mediano ligeramente más alto que las propiedades listas para mudarse. Esto contradice lo que se podría pensar intuitivamente, pero puede deberse a que las propiedades en construcción a menudo son parte de proyectos nuevos y más modernos.\n",
        "\n",
        "La mediana del precio de las propiedades con aprobación RERA es de 4.32, mientras que la de las propiedades sin aprobación RERA es de 4.04.\n",
        "\n",
        "La aprobación RERA está claramente asociada con precios más altos. La diferencia en las medianas es significativa. Esto tiene sentido, ya que RERA es una regulación que brinda seguridad a los compradores, lo que les da una mayor confianza para pagar más por una propiedad."
      ],
      "metadata": {
        "id": "er9ssVQoxTon"
      }
    },
    {
      "cell_type": "markdown",
      "source": [
        "✅ **Conclusión preliminares del Proyecto**\n",
        "\n",
        "Estos resultados validan el análisis exploratorio:\n",
        "\n",
        "La transformación logarítmica normalizó la distribución de los precios.\n",
        "\n",
        "La mayoría de las propiedades se concentran en un rango de precios específico.\n",
        "\n",
        "Los valores extremos han disminuido, lo que te permite trabajar con un conjunto de datos más robusto."
      ],
      "metadata": {
        "id": "q5bodIu1y-M5"
      }
    },
    {
      "cell_type": "markdown",
      "source": [
        "🧠 **¿Siguiente paso: Construcción y optimización de modelos de machine learning?**\n"
      ],
      "metadata": {
        "id": "fu9wCggA4Iqr"
      }
    }
  ]
}